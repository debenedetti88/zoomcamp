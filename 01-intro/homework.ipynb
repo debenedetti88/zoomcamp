{
 "cells": [
  {
   "cell_type": "code",
   "execution_count": 1,
   "id": "3a7a47e2-e579-4475-89ae-b4fe6c5ed992",
   "metadata": {},
   "outputs": [],
   "source": [
    "import openai"
   ]
  },
  {
   "cell_type": "code",
   "execution_count": 5,
   "id": "1c65efd7-e9d6-4f9b-b8cd-0dd9b8a07b64",
   "metadata": {},
   "outputs": [],
   "source": [
    "from openai import OpenAI"
   ]
  },
  {
   "cell_type": "code",
   "execution_count": 6,
   "id": "856998c0-5cc0-4645-8db5-9f239eb01315",
   "metadata": {},
   "outputs": [],
   "source": [
    "client = OpenAI()"
   ]
  },
  {
   "cell_type": "code",
   "execution_count": 8,
   "id": "629c102e-8d7e-4f34-bd86-7a771bc1cc1d",
   "metadata": {},
   "outputs": [],
   "source": [
    "import os"
   ]
  },
  {
   "cell_type": "code",
   "execution_count": 16,
   "id": "53ba59dc-ce47-49e6-97c1-2b71bdb324ff",
   "metadata": {},
   "outputs": [],
   "source": [
    "response = client.chat.completions.create(\n",
    "    model='gpt-4o',\n",
    "    messages=[{\"role\":\"user\", \"content\":\"como me bajo Anaconda para windows?\"}]\n",
    ")\n"
   ]
  },
  {
   "cell_type": "code",
   "execution_count": 19,
   "id": "7e81d9ba-32c1-4f81-b3f1-a26a9a5c98e7",
   "metadata": {},
   "outputs": [
    {
     "data": {
      "text/plain": [
       "'Para descargar e instalar Anaconda en Windows, sigue estos pasos:\\n\\n1. **Visita el sitio web de Anaconda:**\\n   Ve a la página oficial de descargas de Anaconda en tu navegador: [anaconda.com/download](https://www.anaconda.com/download)\\n\\n2. **Selecciona tu sistema operativo:**\\n   Asegúrate de que la pestaña de Windows esté seleccionada.\\n\\n3. **Descarga el instalador:**\\n   Puedes elegir entre la versión de 64 bits o 32 bits, según tu sistema operativo. La mayoría de los equipos modernos son de 64 bits, por lo que es probable que esta sea la versión que necesites. Haz clic en el botón \"Download\" para descargar el instalador.\\n\\n4. **Ejecuta el instalador:**\\n   Una vez que el archivo se descargue, busca el archivo en tu carpeta de descargas (normalmente se llama algo como `Anaconda3-2023.x-x-Windows-x86_64.exe`) y ejecuta el instalador.\\n\\n5. **Sigue las instrucciones de instalación:**\\n   - **Bienvenida:** Haz clic en \"Next\" en la pantalla de bienvenida.\\n   - **Acepta el acuerdo de licencia:** Lee y acepta el acuerdo de licencia.\\n   - **Selecciona tipo de instalación:** Elige \"Just Me\" a menos que quieras que otros usuarios en tu computadora también puedan usar Anaconda.\\n   - **Selecciona la ubicación de instalación:** Elige la ubicación donde deseas instalar Anaconda. La opción predeterminada generalmente está bien.\\n   - **Opciones avanzadas:** Es recomendable no marcar la opción de \"Add Anaconda to my PATH environment variable\" para evitar conflictos con otras instalaciones de Python. Deja la opción \"Register Anaconda as my default Python\" marcada si deseas que Anaconda sea tu entorno de Python predeterminado.\\n   - **Instalación:** Haz clic en \"Install\" para comenzar la instalación. Este proceso puede tardar unos minutos.\\n\\n6. **Completa la instalación:**\\n   Una vez finalizada la instalación, puedes marcar las opciones para iniciar Anaconda Navigator y visualizar tutoriales, o simplemente hacer clic en \"Finish\" para completar el proceso.\\n\\n7. **Verifica la instalación:** Abre Anaconda Navigator desde el menú de inicio para asegurarte de que Anaconda se ha instalado correctamente. Desde aquí, puedes gestionar tus entornos y paquetes, y abrir aplicaciones como Jupyter Notebook, Spyder, etc.\\n\\n¡Y eso es todo! Ahora deberías tener Anaconda instalado en tu sistema Windows.'"
      ]
     },
     "execution_count": 19,
     "metadata": {},
     "output_type": "execute_result"
    }
   ],
   "source": [
    "response.choices[0].message.content"
   ]
  },
  {
   "cell_type": "code",
   "execution_count": null,
   "id": "e0d8a26b-5d53-46de-859e-75cb58cc58ce",
   "metadata": {},
   "outputs": [],
   "source": []
  }
 ],
 "metadata": {
  "kernelspec": {
   "display_name": "Python 3 (ipykernel)",
   "language": "python",
   "name": "python3"
  },
  "language_info": {
   "codemirror_mode": {
    "name": "ipython",
    "version": 3
   },
   "file_extension": ".py",
   "mimetype": "text/x-python",
   "name": "python",
   "nbconvert_exporter": "python",
   "pygments_lexer": "ipython3",
   "version": "3.12.1"
  }
 },
 "nbformat": 4,
 "nbformat_minor": 5
}
